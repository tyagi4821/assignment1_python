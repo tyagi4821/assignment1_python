{
 "cells": [
  {
   "cell_type": "markdown",
   "id": "e0b9b007-0851-4ac3-909f-76c1bf16d1ae",
   "metadata": {},
   "source": [
    "Question 1 :- Explain the key features of python that makes it a popular choice for programming."
   ]
  },
  {
   "cell_type": "code",
   "execution_count": null,
   "id": "38a4b522-5308-42e0-a365-f65a7f7dc801",
   "metadata": {},
   "outputs": [],
   "source": [
    "#Answer:-  Python has so many key features that makes it popular choice of programming some of the features mention below:-\n",
    "\n",
    "#a).Readability and Simplicity :- Python syntax is clear and concise which makes it easy to read and write.\n",
    "#b).Versatility :- Python is a general purpose language that can be used for multiple type of programming, web development, data analysis and Artificial intelligence.\n",
    "#c).Extensive Libraries and Frameworks:- Python has a large number of libraries and Frameworks that simplify complex tasks.\n",
    "#d).Large Active community :- Python has a large community that contributes to a wealth of resources, libraries and Frameworks.\n",
    "#e).Integration capability :- Python can easily integrate with other languages like C, C++ and Java."
   ]
  },
  {
   "cell_type": "markdown",
   "id": "81783c91-a473-4b03-8a04-b50a035af025",
   "metadata": {},
   "source": [
    "Question 2 :- Describe the role of predefined keywords in Python and provide examples of how they are used in a programme?"
   ]
  },
  {
   "cell_type": "code",
   "execution_count": 45,
   "id": "272d3fb9-1458-452b-8add-de47ab3a6132",
   "metadata": {},
   "outputs": [
    {
     "name": "stdout",
     "output_type": "stream",
     "text": [
      "x_1 is smaller than 10\n"
     ]
    }
   ],
   "source": [
    "# Answer :- Predefined keywords are the reserved words that have a special meaning and purpose in Python.They are integral to the language syntax and are cannot be used as identifiers (names of variables, fundtions and other user defined items).\n",
    "# For example if, else, print, for etc\n",
    "# Below is the example for predefined keywords\n",
    "x_1=10\n",
    "if x_1>10:\n",
    "    print(\"x_1 is greater than 10\")\n",
    "else:\n",
    "    print(\"x_1 is smaller than 10\")\n",
    "    \n",
    "# in the above examples if, else and print are the predefined keywords"
   ]
  },
  {
   "cell_type": "markdown",
   "id": "c227e4c5-a40d-49c9-a172-8fe87af55297",
   "metadata": {},
   "source": [
    "Question 3 :- Compare and contrast mutable and immutable objects in Python with examples."
   ]
  },
  {
   "cell_type": "code",
   "execution_count": 8,
   "id": "9e49262f-ea89-419b-8e16-2884baef63e3",
   "metadata": {},
   "outputs": [
    {
     "name": "stdout",
     "output_type": "stream",
     "text": [
      "Original List: [1, 3, 5, 7, 9, 11]\n",
      "Modified list: [2, 3, 5, 7, 9, 11]\n",
      "Modifoed list after append: [2, 3, 5, 7, 9, 11, 17]\n"
     ]
    }
   ],
   "source": [
    "# Answer :- Mutable Objects :- Mutable objects are the objects for which we can change the values or state after the creation, we can modify, add or remove the elements within the objects wiythout creating a new object. For Example- List Dictionary and sets.\n",
    "#Example For Mutable objects\n",
    "l=[1,3,5,7,9,11]\n",
    "print(\"Original List:\",l)\n",
    "\n",
    "l[0]=2\n",
    "print(\"Modified list:\",l)\n",
    "\n",
    "l.append(17)\n",
    "print(\"Modifoed list after append:\",l)\n"
   ]
  },
  {
   "cell_type": "code",
   "execution_count": 17,
   "id": "86f0db99-042f-44c1-a030-3c82b025759f",
   "metadata": {},
   "outputs": [
    {
     "name": "stdout",
     "output_type": "stream",
     "text": [
      "Original tuple: (1, 3, 5, 7)\n",
      "Error: 'tuple' object does not support item assignment\n"
     ]
    }
   ],
   "source": [
    "# Immutable objects :- Immutable objects are the objects for which we cannot change the values or state after the creation, any attempt to do modification in immutable objects will resulted into the creation of new object. For ex - String, Tuple, integer, Float.\n",
    "\n",
    "# Exaple for immutable objects\n",
    "\n",
    "m=(1,3,5,7)\n",
    "print(\"Original tuple:\",m)\n",
    "\n",
    "try:\n",
    "    m[0]= 10\n",
    "except TypeError as e:\n",
    "    print(\"Error:\", e)\n"
   ]
  },
  {
   "cell_type": "markdown",
   "id": "cb87f22e-bf70-4ea1-bcc5-dbee2a525713",
   "metadata": {},
   "source": [
    "Questions 4 :- Discuss the different type of operators in python and provide examples how they are used?"
   ]
  },
  {
   "cell_type": "code",
   "execution_count": 47,
   "id": "da46adb4-26aa-4cbf-bb7c-78af61efc7bb",
   "metadata": {},
   "outputs": [
    {
     "name": "stdout",
     "output_type": "stream",
     "text": [
      "Addition of x_2 and y_2 is: 53\n",
      "Subtraction of x_2 and y_2 is: 49\n",
      "Multiplication of x_2 and y_2 is: 102\n",
      "Division of x_2 and y_2 is: 25.5\n",
      "Modulus of x_2 and y_2 is: 1\n",
      "Result is: 2601\n",
      "Floor Division of x_2 and y_2 is: 25\n"
     ]
    }
   ],
   "source": [
    "# Asnwer :- Opeartors are the special keywords or symbols that are used to perform operations on values or variables.\n",
    "# Arithmetice operators:- Addition, Subtraction, Multiplication, Division, Floor Division.\n",
    "# Below are the exaples of Arithmetice operatos:-\n",
    "x_2=51\n",
    "y_2=2\n",
    "\n",
    "# Addition operator gives the sum of values.\n",
    "Addition = x_2 + y_2\n",
    "print(\"Addition of x_2 and y_2 is:\",Addition)\n",
    "\n",
    "#Subtraction gives the the difference of the values.\n",
    "Subtraction = x_2-y_2\n",
    "print(\"Subtraction of x_2 and y_2 is:\", Subtraction)\n",
    "\n",
    "# Multiplication gives the product of the values.\n",
    "Multiplication = x_2*y_2\n",
    "print(\"Multiplication of x_2 and y_2 is:\",Multiplication)\n",
    "\n",
    "#Division operator divide the value.\n",
    "Division = x_2/y_2\n",
    "print(\"Division of x_2 and y_2 is:\",Division)\\\n",
    "\n",
    "#Modulus gives the remainder after division\n",
    "Modulus = x_2%y_2\n",
    "print(\"Modulus of x_2 and y_2 is:\",Modulus)\n",
    "\n",
    "#Exponential operatior works on the formula:- result = base** power\n",
    "Exp_operator= x_2**y_2\n",
    "print(\"Result is:\",Exp_operator)\n",
    "\n",
    "#Floor division gives the nearest smaller value after the division.\n",
    "Floor_Division = x_2//y_2\n",
    "print(\"Floor Division of x_2 and y_2 is:\", Floor_Division) \n",
    "\n"
   ]
  },
  {
   "cell_type": "code",
   "execution_count": 49,
   "id": "bf27f2c2-4a02-4840-93bf-efdf52855017",
   "metadata": {},
   "outputs": [
    {
     "data": {
      "text/plain": [
       "False"
      ]
     },
     "execution_count": 49,
     "metadata": {},
     "output_type": "execute_result"
    }
   ],
   "source": [
    "#Comparison operatos are used to compare the values\n",
    "\n",
    "x_3 = 5\n",
    "y_3 = 3\n",
    "\n",
    "#'==' used to comparing the values whether it is equal or not\n",
    "x_3==y_3\n",
    "# it gives the result False as both the values are not equal.\n",
    "\n",
    "#'!='  not equals to operation if the values are not equal it gives True if equal it gives False\n",
    "x_3!=y_3\n",
    "# it gives the value True as both the values are not equal\n",
    "\n",
    "#'x>y' used for checking whether the value is greater or not'\n",
    "x_3>y_3\n",
    "# it gives us true as the x is greater than y\n",
    "\n",
    "#'x<y' used for checking the values whether the values are smaller or not\n",
    "x_3<y_3\n",
    "# it gives the value False as the x is smaller than y\n",
    "\n",
    "#'>=' greatert than or equals to\n",
    "x_3>=y_3\n",
    "#it gives us true as the x is greater than or equals to y\n",
    "#'<=' lesser than or equals to \n",
    "x_3<=y_3\n",
    "# it gives us the result False as x is not smaller than or equals to y"
   ]
  },
  {
   "cell_type": "code",
   "execution_count": 50,
   "id": "2c430213-d1c0-4ce3-94f0-afffef8170b6",
   "metadata": {},
   "outputs": [
    {
     "name": "stdout",
     "output_type": "stream",
     "text": [
      "True\n",
      "True\n",
      "False\n"
     ]
    }
   ],
   "source": [
    "#Logical Operatos are work based upon the logics for ex - And, OR, No\n",
    "\n",
    "#And opeartors works on the below logic (both the conditions must be true)\n",
    "\n",
    "\"\"\"\n",
    "True and True is True\n",
    "True and Falss is False\n",
    "False and True is Fale\n",
    "False and False is False\n",
    "\"\"\"\n",
    "\n",
    "# Example \n",
    "x_4=2\n",
    "y_4=4\n",
    "\n",
    "result = (x_4>1) and (y_4<5)\n",
    "print(result)\n",
    "\n",
    "\n",
    "# Or operator works on the below logic (at least one conditions must be true)\n",
    "\"\"\"\n",
    "True and True is True\n",
    "True and False is True\n",
    "False and True is True\n",
    "False and False is False\n",
    "\"\"\"\n",
    "x_5=2\n",
    "y_5=4\n",
    "\n",
    "result = (x_5>1) or (y_5>5)\n",
    "print(result)\n",
    "# Not operatos This is used to reverse the value\n",
    "\n",
    "x_6=2\n",
    "y_6=4\n",
    "\n",
    "result = not (x_6>1) and (y_6<5)\n",
    "print(result)\n",
    "\n",
    "# Answer or the above code is true while it will print the False"
   ]
  },
  {
   "cell_type": "code",
   "execution_count": 51,
   "id": "646904c7-e43a-4ac4-a172-7938b8d1ce0c",
   "metadata": {},
   "outputs": [
    {
     "data": {
      "text/plain": [
       "'0b1010'"
      ]
     },
     "execution_count": 51,
     "metadata": {},
     "output_type": "execute_result"
    }
   ],
   "source": [
    "#Bitwise operator :- Bitwise operator working at bitlevel, manipualte individual bits within the integer.\n",
    "# all the integers first converted into the binary form and the operation will be done.\n",
    "#For example\n",
    "a=10\n",
    "bin(a)"
   ]
  },
  {
   "cell_type": "code",
   "execution_count": 54,
   "id": "f1ffd647-da6d-4b8d-9eb4-ad6248824832",
   "metadata": {},
   "outputs": [
    {
     "data": {
      "text/plain": [
       "True"
      ]
     },
     "execution_count": 54,
     "metadata": {},
     "output_type": "execute_result"
    }
   ],
   "source": [
    "# Membership operator :- It is the operator which are looking the values within a sequence (string, list, tuple)\n",
    "a='Tyagi'\n",
    "'a' in a"
   ]
  },
  {
   "cell_type": "code",
   "execution_count": 60,
   "id": "7456e7b6-f15a-4c7b-b2ba-f1c9d938a3f0",
   "metadata": {},
   "outputs": [
    {
     "data": {
      "text/plain": [
       "False"
      ]
     },
     "execution_count": 60,
     "metadata": {},
     "output_type": "execute_result"
    }
   ],
   "source": [
    "# Identity operators :- Compares the location of the 2 objects or variables\n",
    "# For example\n",
    "\n",
    "a=3\n",
    "b=2\n",
    "\n",
    "a is b\n",
    "\n"
   ]
  },
  {
   "cell_type": "code",
   "execution_count": 61,
   "id": "8ffffbb2-fda2-4b48-bd03-623014d9a0a1",
   "metadata": {},
   "outputs": [
    {
     "data": {
      "text/plain": [
       "True"
      ]
     },
     "execution_count": 61,
     "metadata": {},
     "output_type": "execute_result"
    }
   ],
   "source": [
    "# Examples for identity operator\n",
    "c=3\n",
    "d=c\n",
    "c is d"
   ]
  },
  {
   "cell_type": "code",
   "execution_count": 63,
   "id": "53bec3b6-2a6e-4420-bd43-aa72792f0b6a",
   "metadata": {},
   "outputs": [
    {
     "name": "stdout",
     "output_type": "stream",
     "text": [
      "20\n",
      "5\n"
     ]
    }
   ],
   "source": [
    "#Shiftwise operators :- Shift operators in Python are used to shift bits of a number left (<<) or right (>>).\n",
    "#1. Bitwise Left Shift (<<) :The bitwise left shift operator (<<) shifts the bits of a number to the left by a specified number of positions. It effectively multiplies the number by \n",
    "\n",
    "x = 5    # Binary: 101\n",
    "\n",
    "result = x << 2\n",
    "print(result)  # Output: 20 (Binary: 10100)\n",
    "\n",
    "# 2. Bitwise Right Shift (>>) :- The bitwise right shift operator (>>) shifts the bits of a number to the right by a specified number of positions. It effectively divides the number by \n",
    "\n",
    "x = 20    # Binary: 10100\n",
    "\n",
    "result = x >> 2\n",
    "print(result)  # Output: 5 (Binary: 101)\n",
    "\n"
   ]
  },
  {
   "cell_type": "markdown",
   "id": "08895efe-7931-4f06-a8c9-6313e5bc03d4",
   "metadata": {},
   "source": [
    "Question 5 :- Explain the concept  of type casting in Python with exmple."
   ]
  },
  {
   "cell_type": "code",
   "execution_count": 64,
   "id": "72b9389d-b9d1-444c-895f-5affca37770b",
   "metadata": {},
   "outputs": [],
   "source": [
    "#Answer :- Type casting the conversion of one data type into the another data type."
   ]
  },
  {
   "cell_type": "code",
   "execution_count": 75,
   "id": "a76ae9d8-78f4-4349-83ac-7d70139c8cef",
   "metadata": {},
   "outputs": [
    {
     "name": "stdout",
     "output_type": "stream",
     "text": [
      "<class 'str'>\n",
      "<class 'int'>\n",
      "5\n"
     ]
    }
   ],
   "source": [
    "a='5' # defined the value of a is 5 in string\n",
    "print(type(a))\n",
    "a=int(a) # We are changing the data type from string to integer this is known as type casting.\n",
    "print(type(a))\n",
    "print(a)"
   ]
  },
  {
   "cell_type": "markdown",
   "id": "60a40620-3bb7-4daa-9f69-725e64a2a7db",
   "metadata": {},
   "source": [
    "Question 6 :- How the conditional statements works in a python ?illustrate with an example."
   ]
  },
  {
   "cell_type": "code",
   "execution_count": 76,
   "id": "252de129-c2d4-4450-aeb0-401eb958e982",
   "metadata": {},
   "outputs": [
    {
     "name": "stdout",
     "output_type": "stream",
     "text": [
      "x is equals to 5\n"
     ]
    }
   ],
   "source": [
    "#Answr :- Conditional statements in Python allow you to execute specific blocks of code based on whether a condition is True or False. The primary conditional statements in Python are if, elif (else if), and else. \n",
    "# For example\n",
    "x=5\n",
    "if x>5:\n",
    "    print(\"x is greater than 5\")\n",
    "elif x<5:\n",
    "    print(\"x is lesser than 5\")\n",
    "else:\n",
    "    print(\"x is equals to 5\")"
   ]
  },
  {
   "cell_type": "markdown",
   "id": "7d08caf1-953b-4913-9383-1e398ff130be",
   "metadata": {},
   "source": [
    "Question 7 :- Describe the different types of loops in python and their use cases with example."
   ]
  },
  {
   "cell_type": "code",
   "execution_count": 77,
   "id": "c1697e04-52c4-4de3-9f13-fda7e0a74450",
   "metadata": {},
   "outputs": [],
   "source": [
    "#In Python, there are several types of loops that allow us to iterate over sequences of data or execute a block of code repeatedly based on certain conditions. The main types of loops are for loops, while loops, and nested loops."
   ]
  },
  {
   "cell_type": "code",
   "execution_count": 79,
   "id": "33974dd8-316b-42f2-8583-b59d5a1cf8a3",
   "metadata": {},
   "outputs": [
    {
     "name": "stdout",
     "output_type": "stream",
     "text": [
      "apple\n",
      "banana\n",
      "cherry\n"
     ]
    }
   ],
   "source": [
    "# For Loop:- A 'for' loop is used to iterate over a sequence (such as lists, tuples, strings, or other iterable objects) or to execute a block of code a fixed number of times.\n",
    "#Example of 'for' loop\n",
    "\n",
    "fruits = [\"apple\", \"banana\", \"cherry\"]\n",
    "for fruit in fruits:\n",
    "    print(fruit)\n",
    "\n",
    "#Use cases :-Use Cases:\n",
    "\n",
    "#Iterating over Collections: Processing each element in a list, tuple, or dictionary.\n",
    "#Executing a Fixed Number of Times: Performing an operation a specific number of iterations using range().\n"
   ]
  },
  {
   "cell_type": "code",
   "execution_count": 81,
   "id": "6457c8c6-d4dc-4c94-ae63-4aebc7f97868",
   "metadata": {},
   "outputs": [
    {
     "name": "stdout",
     "output_type": "stream",
     "text": [
      "5\n",
      "4\n",
      "3\n",
      "2\n",
      "1\n"
     ]
    }
   ],
   "source": [
    "#2. while Loop :- A while loop executes a block of code as long as a specified condition is True.\n",
    "# Example of 'while' loop is\n",
    "count = 5\n",
    "while count > 0:\n",
    "    print(count)\n",
    "    count -= 1\n",
    "\n",
    "#Use Cases:\n",
    "#Looping until a Condition is False: Useful when the number of iterations is not known in advance but depends on a condition.\n",
    "#Event-driven Programming: Continuously checking conditions in interactive programs or event loops."
   ]
  },
  {
   "cell_type": "code",
   "execution_count": 82,
   "id": "457e5a41-71af-4021-9abf-d2d13682e020",
   "metadata": {},
   "outputs": [
    {
     "name": "stdout",
     "output_type": "stream",
     "text": [
      "1 2 3 \n",
      "2 4 6 \n",
      "3 6 9 \n"
     ]
    }
   ],
   "source": [
    "#3. Nested Loops:- Nested loops are loops within loops, allowing you to iterate over multiple sequences or execute more complex repetitive tasks.\n",
    "# Example of Nested loop :-\n",
    "for i in range(1, 4):\n",
    "    for j in range(1, 4):\n",
    "        print(i * j, end=' ')\n",
    "    print()\n",
    "#Use Cases:\n",
    "\n",
    "#Matrix Operations: Accessing elements row-wise and column-wise in nested lists.\n",
    "#Pattern Generation: Creating complex patterns or grids using nested loops."
   ]
  },
  {
   "cell_type": "code",
   "execution_count": null,
   "id": "cb7661d4-212c-437e-b22d-b4c25c7c8ec8",
   "metadata": {},
   "outputs": [],
   "source": []
  }
 ],
 "metadata": {
  "kernelspec": {
   "display_name": "Python 3 (ipykernel)",
   "language": "python",
   "name": "python3"
  },
  "language_info": {
   "codemirror_mode": {
    "name": "ipython",
    "version": 3
   },
   "file_extension": ".py",
   "mimetype": "text/x-python",
   "name": "python",
   "nbconvert_exporter": "python",
   "pygments_lexer": "ipython3",
   "version": "3.10.8"
  }
 },
 "nbformat": 4,
 "nbformat_minor": 5
}
